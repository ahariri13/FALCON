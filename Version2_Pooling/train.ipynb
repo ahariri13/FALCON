{
  "nbformat": 4,
  "nbformat_minor": 0,
  "metadata": {
    "colab": {
      "name": "train.ipynb",
      "provenance": [],
      "collapsed_sections": []
    },
    "kernelspec": {
      "name": "python3",
      "display_name": "Python 3"
    },
    "accelerator": "GPU"
  },
  "cells": [
    {
      "cell_type": "markdown",
      "metadata": {
        "id": "pqUFgLSb5eFF",
        "colab_type": "text"
      },
      "source": [
        "In this code, we aim to use Edge Pooling and Unpooling in order to reconstruct the events. The main message passing technique so far is SAGE, and the main loss functions are MSE and Chamfer Distance "
      ]
    },
    {
      "cell_type": "markdown",
      "metadata": {
        "id": "ha6zO9mFe09Q",
        "colab_type": "text"
      },
      "source": [
        "# Libraries Installation\n"
      ]
    },
    {
      "cell_type": "markdown",
      "metadata": {
        "id": "A52qcrwYecyr",
        "colab_type": "text"
      },
      "source": [
        "Import Pytorch Version 1.4 for compatibility with some libraries to be used like neural-net pytorch that contains EMD and Chamfer Distance Libraries"
      ]
    },
    {
      "cell_type": "code",
      "metadata": {
        "id": "v6bbzlRv225X",
        "colab_type": "code",
        "colab": {
          "base_uri": "https://localhost:8080/",
          "height": 52
        },
        "outputId": "7e986a12-5d34-4f8c-e63d-39569f0cb9c1"
      },
      "source": [
        "!pip install -q torch==1.4.0 torchvision==0.5"
      ],
      "execution_count": 1,
      "outputs": [
        {
          "output_type": "stream",
          "text": [
            "\u001b[K     |████████████████████████████████| 753.4MB 16kB/s \n",
            "\u001b[K     |████████████████████████████████| 4.0MB 48.1MB/s \n",
            "\u001b[?25h"
          ],
          "name": "stdout"
        }
      ]
    },
    {
      "cell_type": "code",
      "metadata": {
        "id": "EmFT0LIh3Hb7",
        "colab_type": "code",
        "colab": {
          "base_uri": "https://localhost:8080/",
          "height": 1000
        },
        "outputId": "0e5099fa-b864-402f-8199-91e839999257"
      },
      "source": [
        "\n",
        "!pip install torch-scatter==latest+cu101 -f https://pytorch-geometric.com/whl/torch-1.4.0.html\n",
        "!pip install torch-sparse==latest+cu101 -f https://pytorch-geometric.com/whl/torch-1.4.0.html\n",
        "!pip install torch-cluster==latest+cu101 -f https://pytorch-geometric.com/whl/torch-1.4.0.html\n",
        "!pip install torch-spline-conv==latest+cu101 -f https://pytorch-geometric.com/whl/torch-1.4.0.html\n",
        "!pip install torch-geometric\n"
      ],
      "execution_count": 2,
      "outputs": [
        {
          "output_type": "stream",
          "text": [
            "Looking in links: https://pytorch-geometric.com/whl/torch-1.4.0.html\n",
            "Collecting torch-scatter==latest+cu101\n",
            "\u001b[?25l  Downloading https://pytorch-geometric.com/whl/torch-1.4.0/torch_scatter-latest%2Bcu101-cp36-cp36m-linux_x86_64.whl (10.6MB)\n",
            "\u001b[K     |████████████████████████████████| 10.6MB 6.0MB/s \n",
            "\u001b[?25hInstalling collected packages: torch-scatter\n",
            "Successfully installed torch-scatter-2.0.4\n",
            "Looking in links: https://pytorch-geometric.com/whl/torch-1.4.0.html\n",
            "Collecting torch-sparse==latest+cu101\n",
            "\u001b[?25l  Downloading https://pytorch-geometric.com/whl/torch-1.4.0/torch_sparse-latest%2Bcu101-cp36-cp36m-linux_x86_64.whl (15.2MB)\n",
            "\u001b[K     |████████████████████████████████| 15.2MB 206kB/s \n",
            "\u001b[?25hRequirement already satisfied: scipy in /usr/local/lib/python3.6/dist-packages (from torch-sparse==latest+cu101) (1.4.1)\n",
            "Requirement already satisfied: numpy>=1.13.3 in /usr/local/lib/python3.6/dist-packages (from scipy->torch-sparse==latest+cu101) (1.18.5)\n",
            "Installing collected packages: torch-sparse\n",
            "Successfully installed torch-sparse-0.6.1\n",
            "Looking in links: https://pytorch-geometric.com/whl/torch-1.4.0.html\n",
            "Collecting torch-cluster==latest+cu101\n",
            "\u001b[?25l  Downloading https://pytorch-geometric.com/whl/torch-1.4.0/torch_cluster-latest%2Bcu101-cp36-cp36m-linux_x86_64.whl (14.5MB)\n",
            "\u001b[K     |████████████████████████████████| 14.5MB 237kB/s \n",
            "\u001b[?25hRequirement already satisfied: scipy in /usr/local/lib/python3.6/dist-packages (from torch-cluster==latest+cu101) (1.4.1)\n",
            "Requirement already satisfied: numpy>=1.13.3 in /usr/local/lib/python3.6/dist-packages (from scipy->torch-cluster==latest+cu101) (1.18.5)\n",
            "Installing collected packages: torch-cluster\n",
            "Successfully installed torch-cluster-1.5.4\n",
            "Looking in links: https://pytorch-geometric.com/whl/torch-1.4.0.html\n",
            "Collecting torch-spline-conv==latest+cu101\n",
            "\u001b[?25l  Downloading https://pytorch-geometric.com/whl/torch-1.4.0/torch_spline_conv-latest%2Bcu101-cp36-cp36m-linux_x86_64.whl (5.1MB)\n",
            "\u001b[K     |████████████████████████████████| 5.1MB 719kB/s \n",
            "\u001b[?25hInstalling collected packages: torch-spline-conv\n",
            "Successfully installed torch-spline-conv-1.2.0\n",
            "Collecting torch-geometric\n",
            "\u001b[?25l  Downloading https://files.pythonhosted.org/packages/88/67/6c0bce6b6e6bc806e25d996e46a686e5a11254d89257983265a988bb02ee/torch_geometric-1.6.1.tar.gz (178kB)\n",
            "\u001b[K     |████████████████████████████████| 184kB 2.7MB/s \n",
            "\u001b[?25hRequirement already satisfied: torch in /usr/local/lib/python3.6/dist-packages (from torch-geometric) (1.4.0)\n",
            "Requirement already satisfied: numpy in /usr/local/lib/python3.6/dist-packages (from torch-geometric) (1.18.5)\n",
            "Requirement already satisfied: tqdm in /usr/local/lib/python3.6/dist-packages (from torch-geometric) (4.41.1)\n",
            "Requirement already satisfied: scipy in /usr/local/lib/python3.6/dist-packages (from torch-geometric) (1.4.1)\n",
            "Requirement already satisfied: networkx in /usr/local/lib/python3.6/dist-packages (from torch-geometric) (2.5)\n",
            "Requirement already satisfied: scikit-learn in /usr/local/lib/python3.6/dist-packages (from torch-geometric) (0.22.2.post1)\n",
            "Requirement already satisfied: numba in /usr/local/lib/python3.6/dist-packages (from torch-geometric) (0.48.0)\n",
            "Requirement already satisfied: requests in /usr/local/lib/python3.6/dist-packages (from torch-geometric) (2.23.0)\n",
            "Requirement already satisfied: pandas in /usr/local/lib/python3.6/dist-packages (from torch-geometric) (1.0.5)\n",
            "Collecting rdflib\n",
            "\u001b[?25l  Downloading https://files.pythonhosted.org/packages/d0/6b/6454aa1db753c0f8bc265a5bd5c10b5721a4bb24160fb4faf758cf6be8a1/rdflib-5.0.0-py3-none-any.whl (231kB)\n",
            "\u001b[K     |████████████████████████████████| 235kB 8.3MB/s \n",
            "\u001b[?25hRequirement already satisfied: h5py in /usr/local/lib/python3.6/dist-packages (from torch-geometric) (2.10.0)\n",
            "Requirement already satisfied: googledrivedownloader in /usr/local/lib/python3.6/dist-packages (from torch-geometric) (0.4)\n",
            "Collecting ase\n",
            "\u001b[?25l  Downloading https://files.pythonhosted.org/packages/51/78/edadb45c7f26f8fbb99da81feadb561c26bb0393b6c5d1ac200ecdc12d61/ase-3.20.1-py3-none-any.whl (2.2MB)\n",
            "\u001b[K     |████████████████████████████████| 2.2MB 7.9MB/s \n",
            "\u001b[?25hRequirement already satisfied: jinja2 in /usr/local/lib/python3.6/dist-packages (from torch-geometric) (2.11.2)\n",
            "Requirement already satisfied: decorator>=4.3.0 in /usr/local/lib/python3.6/dist-packages (from networkx->torch-geometric) (4.4.2)\n",
            "Requirement already satisfied: joblib>=0.11 in /usr/local/lib/python3.6/dist-packages (from scikit-learn->torch-geometric) (0.16.0)\n",
            "Requirement already satisfied: llvmlite<0.32.0,>=0.31.0dev0 in /usr/local/lib/python3.6/dist-packages (from numba->torch-geometric) (0.31.0)\n",
            "Requirement already satisfied: setuptools in /usr/local/lib/python3.6/dist-packages (from numba->torch-geometric) (49.6.0)\n",
            "Requirement already satisfied: urllib3!=1.25.0,!=1.25.1,<1.26,>=1.21.1 in /usr/local/lib/python3.6/dist-packages (from requests->torch-geometric) (1.24.3)\n",
            "Requirement already satisfied: idna<3,>=2.5 in /usr/local/lib/python3.6/dist-packages (from requests->torch-geometric) (2.10)\n",
            "Requirement already satisfied: chardet<4,>=3.0.2 in /usr/local/lib/python3.6/dist-packages (from requests->torch-geometric) (3.0.4)\n",
            "Requirement already satisfied: certifi>=2017.4.17 in /usr/local/lib/python3.6/dist-packages (from requests->torch-geometric) (2020.6.20)\n",
            "Requirement already satisfied: pytz>=2017.2 in /usr/local/lib/python3.6/dist-packages (from pandas->torch-geometric) (2018.9)\n",
            "Requirement already satisfied: python-dateutil>=2.6.1 in /usr/local/lib/python3.6/dist-packages (from pandas->torch-geometric) (2.8.1)\n",
            "Requirement already satisfied: six in /usr/local/lib/python3.6/dist-packages (from rdflib->torch-geometric) (1.15.0)\n",
            "Requirement already satisfied: pyparsing in /usr/local/lib/python3.6/dist-packages (from rdflib->torch-geometric) (2.4.7)\n",
            "Collecting isodate\n",
            "\u001b[?25l  Downloading https://files.pythonhosted.org/packages/9b/9f/b36f7774ff5ea8e428fdcfc4bb332c39ee5b9362ddd3d40d9516a55221b2/isodate-0.6.0-py2.py3-none-any.whl (45kB)\n",
            "\u001b[K     |████████████████████████████████| 51kB 7.9MB/s \n",
            "\u001b[?25hRequirement already satisfied: matplotlib>=2.0.0 in /usr/local/lib/python3.6/dist-packages (from ase->torch-geometric) (3.2.2)\n",
            "Requirement already satisfied: MarkupSafe>=0.23 in /usr/local/lib/python3.6/dist-packages (from jinja2->torch-geometric) (1.1.1)\n",
            "Requirement already satisfied: cycler>=0.10 in /usr/local/lib/python3.6/dist-packages (from matplotlib>=2.0.0->ase->torch-geometric) (0.10.0)\n",
            "Requirement already satisfied: kiwisolver>=1.0.1 in /usr/local/lib/python3.6/dist-packages (from matplotlib>=2.0.0->ase->torch-geometric) (1.2.0)\n",
            "Building wheels for collected packages: torch-geometric\n",
            "  Building wheel for torch-geometric (setup.py) ... \u001b[?25l\u001b[?25hdone\n",
            "  Created wheel for torch-geometric: filename=torch_geometric-1.6.1-cp36-none-any.whl size=308552 sha256=5a5de3de51e7bbef410a4f827ecab977d2936357e8456e542c17a02d8aa53c8e\n",
            "  Stored in directory: /root/.cache/pip/wheels/e6/25/ea/3d71d2088dccc63214fa59259dcc598ded4150a5f8b41d84ff\n",
            "Successfully built torch-geometric\n",
            "Installing collected packages: isodate, rdflib, ase, torch-geometric\n",
            "Successfully installed ase-3.20.1 isodate-0.6.0 rdflib-5.0.0 torch-geometric-1.6.1\n"
          ],
          "name": "stdout"
        }
      ]
    },
    {
      "cell_type": "code",
      "metadata": {
        "id": "OaN4zqUT3LeH",
        "colab_type": "code",
        "colab": {
          "base_uri": "https://localhost:8080/",
          "height": 607
        },
        "outputId": "0ac09796-b530-40fb-9f58-6e476caa9f77"
      },
      "source": [
        "pip install \"neuralnet-pytorch[geom] @ git+git://github.com/justanhduc/neuralnet-pytorch.git@master\""
      ],
      "execution_count": 3,
      "outputs": [
        {
          "output_type": "stream",
          "text": [
            "Collecting neuralnet-pytorch[geom]@ git+git://github.com/justanhduc/neuralnet-pytorch.git@master\n",
            "  Cloning git://github.com/justanhduc/neuralnet-pytorch.git (to revision master) to /tmp/pip-install-_x549m87/neuralnet-pytorch\n",
            "  Running command git clone -q git://github.com/justanhduc/neuralnet-pytorch.git /tmp/pip-install-_x549m87/neuralnet-pytorch\n",
            "Requirement already satisfied: matplotlib in /usr/local/lib/python3.6/dist-packages (from neuralnet-pytorch[geom]@ git+git://github.com/justanhduc/neuralnet-pytorch.git@master) (3.2.2)\n",
            "Requirement already satisfied: scipy in /usr/local/lib/python3.6/dist-packages (from neuralnet-pytorch[geom]@ git+git://github.com/justanhduc/neuralnet-pytorch.git@master) (1.4.1)\n",
            "Requirement already satisfied: numpy in /usr/local/lib/python3.6/dist-packages (from neuralnet-pytorch[geom]@ git+git://github.com/justanhduc/neuralnet-pytorch.git@master) (1.18.5)\n",
            "Requirement already satisfied: imageio in /usr/local/lib/python3.6/dist-packages (from neuralnet-pytorch[geom]@ git+git://github.com/justanhduc/neuralnet-pytorch.git@master) (2.4.1)\n",
            "Requirement already satisfied: future in /usr/local/lib/python3.6/dist-packages (from neuralnet-pytorch[geom]@ git+git://github.com/justanhduc/neuralnet-pytorch.git@master) (0.16.0)\n",
            "Collecting pykeops\n",
            "\u001b[?25l  Downloading https://files.pythonhosted.org/packages/a4/0d/faf4fbffa0fa325b72e3f4fc26c41ae70a2dede16f97f2dcf093897411f3/pykeops-1.4.1.tar.gz (319kB)\n",
            "\u001b[K     |████████████████████████████████| 327kB 2.7MB/s \n",
            "\u001b[?25hCollecting geomloss\n",
            "  Downloading https://files.pythonhosted.org/packages/75/66/f89d1bc1f7f21cf821d0e34aea40045a8d2a89222732cfe76511643077a1/geomloss-0.2.3-py3-none-any.whl\n",
            "Requirement already satisfied: kiwisolver>=1.0.1 in /usr/local/lib/python3.6/dist-packages (from matplotlib->neuralnet-pytorch[geom]@ git+git://github.com/justanhduc/neuralnet-pytorch.git@master) (1.2.0)\n",
            "Requirement already satisfied: pyparsing!=2.0.4,!=2.1.2,!=2.1.6,>=2.0.1 in /usr/local/lib/python3.6/dist-packages (from matplotlib->neuralnet-pytorch[geom]@ git+git://github.com/justanhduc/neuralnet-pytorch.git@master) (2.4.7)\n",
            "Requirement already satisfied: cycler>=0.10 in /usr/local/lib/python3.6/dist-packages (from matplotlib->neuralnet-pytorch[geom]@ git+git://github.com/justanhduc/neuralnet-pytorch.git@master) (0.10.0)\n",
            "Requirement already satisfied: python-dateutil>=2.1 in /usr/local/lib/python3.6/dist-packages (from matplotlib->neuralnet-pytorch[geom]@ git+git://github.com/justanhduc/neuralnet-pytorch.git@master) (2.8.1)\n",
            "Requirement already satisfied: pillow in /usr/local/lib/python3.6/dist-packages (from imageio->neuralnet-pytorch[geom]@ git+git://github.com/justanhduc/neuralnet-pytorch.git@master) (7.0.0)\n",
            "Collecting GPUtil\n",
            "  Downloading https://files.pythonhosted.org/packages/ed/0e/5c61eedde9f6c87713e89d794f01e378cfd9565847d4576fa627d758c554/GPUtil-1.4.0.tar.gz\n",
            "Requirement already satisfied: six in /usr/local/lib/python3.6/dist-packages (from cycler>=0.10->matplotlib->neuralnet-pytorch[geom]@ git+git://github.com/justanhduc/neuralnet-pytorch.git@master) (1.15.0)\n",
            "Building wheels for collected packages: neuralnet-pytorch, pykeops, GPUtil\n",
            "  Building wheel for neuralnet-pytorch (setup.py) ... \u001b[?25l\u001b[?25hdone\n",
            "  Created wheel for neuralnet-pytorch: filename=neuralnet_pytorch-1.0.0+fancy.144.g6bda19f-cp36-none-any.whl size=75682 sha256=07f1dd30d6b3c34f9ce26d0a93325d61294860ce57b66acdd531407436fedd54\n",
            "  Stored in directory: /tmp/pip-ephem-wheel-cache-xqqzv0rp/wheels/a0/2c/de/6021ddff0ffba15a0ddd0b5fae67160a380fbc2b8da75a9179\n",
            "  Building wheel for pykeops (setup.py) ... \u001b[?25l\u001b[?25hdone\n",
            "  Created wheel for pykeops: filename=pykeops-1.4.1-cp36-none-any.whl size=434125 sha256=d4aa6851da6c8507a73e35bfdb78e368a89b9cbf659453371ae72048cf121746\n",
            "  Stored in directory: /root/.cache/pip/wheels/84/a0/62/52df258b8d6a36e878eaed84e43e1f06c13eb73ceb966ff232\n",
            "  Building wheel for GPUtil (setup.py) ... \u001b[?25l\u001b[?25hdone\n",
            "  Created wheel for GPUtil: filename=GPUtil-1.4.0-cp36-none-any.whl size=7411 sha256=e1cb108037e1cbd846351416e1d7a6be6a798abfad5ba3a07a69afa076ed61d7\n",
            "  Stored in directory: /root/.cache/pip/wheels/3d/77/07/80562de4bb0786e5ea186911a2c831fdd0018bda69beab71fd\n",
            "Successfully built neuralnet-pytorch pykeops GPUtil\n",
            "Installing collected packages: GPUtil, pykeops, geomloss, neuralnet-pytorch\n",
            "Successfully installed GPUtil-1.4.0 geomloss-0.2.3 neuralnet-pytorch-1.0.0+fancy.144.g6bda19f pykeops-1.4.1\n"
          ],
          "name": "stdout"
        }
      ]
    },
    {
      "cell_type": "code",
      "metadata": {
        "id": "_znfZzdt3Lwp",
        "colab_type": "code",
        "colab": {
          "base_uri": "https://localhost:8080/",
          "height": 225
        },
        "outputId": "127b5350-9cb3-4aed-b979-1810f4c15c39"
      },
      "source": [
        "!pip install neuralnet-pytorch"
      ],
      "execution_count": 4,
      "outputs": [
        {
          "output_type": "stream",
          "text": [
            "Requirement already satisfied: neuralnet-pytorch in /usr/local/lib/python3.6/dist-packages (1.0.0+fancy.144.g6bda19f)\n",
            "Requirement already satisfied: future in /usr/local/lib/python3.6/dist-packages (from neuralnet-pytorch) (0.16.0)\n",
            "Requirement already satisfied: scipy in /usr/local/lib/python3.6/dist-packages (from neuralnet-pytorch) (1.4.1)\n",
            "Requirement already satisfied: numpy in /usr/local/lib/python3.6/dist-packages (from neuralnet-pytorch) (1.18.5)\n",
            "Requirement already satisfied: matplotlib in /usr/local/lib/python3.6/dist-packages (from neuralnet-pytorch) (3.2.2)\n",
            "Requirement already satisfied: imageio in /usr/local/lib/python3.6/dist-packages (from neuralnet-pytorch) (2.4.1)\n",
            "Requirement already satisfied: kiwisolver>=1.0.1 in /usr/local/lib/python3.6/dist-packages (from matplotlib->neuralnet-pytorch) (1.2.0)\n",
            "Requirement already satisfied: pyparsing!=2.0.4,!=2.1.2,!=2.1.6,>=2.0.1 in /usr/local/lib/python3.6/dist-packages (from matplotlib->neuralnet-pytorch) (2.4.7)\n",
            "Requirement already satisfied: cycler>=0.10 in /usr/local/lib/python3.6/dist-packages (from matplotlib->neuralnet-pytorch) (0.10.0)\n",
            "Requirement already satisfied: python-dateutil>=2.1 in /usr/local/lib/python3.6/dist-packages (from matplotlib->neuralnet-pytorch) (2.8.1)\n",
            "Requirement already satisfied: pillow in /usr/local/lib/python3.6/dist-packages (from imageio->neuralnet-pytorch) (7.0.0)\n",
            "Requirement already satisfied: six in /usr/local/lib/python3.6/dist-packages (from cycler>=0.10->matplotlib->neuralnet-pytorch) (1.15.0)\n"
          ],
          "name": "stdout"
        }
      ]
    },
    {
      "cell_type": "code",
      "metadata": {
        "id": "YX-_4ReRvAi5",
        "colab_type": "code",
        "colab": {
          "base_uri": "https://localhost:8080/",
          "height": 139
        },
        "outputId": "300d63cb-1783-464f-89ee-92af79a221f4"
      },
      "source": [
        "!pip install git+git://github.com/justanhduc/neuralnet-pytorch.git@fancy"
      ],
      "execution_count": 5,
      "outputs": [
        {
          "output_type": "stream",
          "text": [
            "Collecting git+git://github.com/justanhduc/neuralnet-pytorch.git@fancy\n",
            "  Cloning git://github.com/justanhduc/neuralnet-pytorch.git (to revision fancy) to /tmp/pip-req-build-alo6if_g\n",
            "  Running command git clone -q git://github.com/justanhduc/neuralnet-pytorch.git /tmp/pip-req-build-alo6if_g\n",
            "\u001b[33m  WARNING: Did not find branch or tag 'fancy', assuming revision or ref.\u001b[0m\n",
            "  Running command git checkout -q fancy\n",
            "  error: pathspec 'fancy' did not match any file(s) known to git.\n",
            "\u001b[31mERROR: Command errored out with exit status 1: git checkout -q fancy Check the logs for full command output.\u001b[0m\n"
          ],
          "name": "stdout"
        }
      ]
    },
    {
      "cell_type": "code",
      "metadata": {
        "id": "XRmb5L3orBi6",
        "colab_type": "code",
        "colab": {
          "base_uri": "https://localhost:8080/",
          "height": 124
        },
        "outputId": "6981a850-4909-40e2-c3e6-6738eb3137be"
      },
      "source": [
        "from google.colab import drive\n",
        "drive.mount('/content/drive')"
      ],
      "execution_count": 6,
      "outputs": [
        {
          "output_type": "stream",
          "text": [
            "Go to this URL in a browser: https://accounts.google.com/o/oauth2/auth?client_id=947318989803-6bn6qk8qdgf4n4g3pfee6491hc0brc4i.apps.googleusercontent.com&redirect_uri=urn%3aietf%3awg%3aoauth%3a2.0%3aoob&scope=email%20https%3a%2f%2fwww.googleapis.com%2fauth%2fdocs.test%20https%3a%2f%2fwww.googleapis.com%2fauth%2fdrive%20https%3a%2f%2fwww.googleapis.com%2fauth%2fdrive.photos.readonly%20https%3a%2f%2fwww.googleapis.com%2fauth%2fpeopleapi.readonly&response_type=code\n",
            "\n",
            "Enter your authorization code:\n",
            "··········\n",
            "Mounted at /content/drive\n"
          ],
          "name": "stdout"
        }
      ]
    },
    {
      "cell_type": "code",
      "metadata": {
        "id": "Br6OzWHT3MLe",
        "colab_type": "code",
        "colab": {
          "base_uri": "https://localhost:8080/",
          "height": 34
        },
        "outputId": "a8bab5c8-53a0-44b8-89af-0332b1568892"
      },
      "source": [
        "cd drive/My\\ Drive/Gitlink/Version2_Pooling"
      ],
      "execution_count": 1,
      "outputs": [
        {
          "output_type": "stream",
          "text": [
            "/content/drive/My Drive/Gitlink/Version2_Pooling\n"
          ],
          "name": "stdout"
        }
      ]
    },
    {
      "cell_type": "code",
      "metadata": {
        "id": "pK14_N4q3TdY",
        "colab_type": "code",
        "colab": {}
      },
      "source": [
        "import argparse\n",
        "import time\n",
        "import torch_geometric\n",
        "import numpy as np\n",
        "import scipy.sparse as sp\n",
        "import torch\n",
        "from torch import optim\n",
        "from torch_geometric.data import Data\n",
        "\n",
        "from torch.optim.lr_scheduler import StepLR\n",
        "import torch.nn.functional as F\n",
        "from torch.utils.data import Dataset, IterableDataset, DataLoader\n",
        "from itertools import cycle, islice\n",
        "from torch_geometric.utils import dropout_adj\n"
      ],
      "execution_count": 2,
      "outputs": []
    },
    {
      "cell_type": "code",
      "metadata": {
        "id": "3QM3HnGv3UB0",
        "colab_type": "code",
        "colab": {}
      },
      "source": [
        "\n",
        "from optimizer import loss_function\n",
        "import iterableJet\n",
        "from iterableJet import IterableMuons\n",
        "import class_jet\n",
        "from class_jet import FCMuonsGPU\n",
        "from model import GraphPooling\n",
        "\n",
        "use_cuda = torch.cuda.is_available()\n",
        "device = torch.device(\"cuda:0\" if use_cuda else \"cpu\")\n",
        "\n",
        "\n",
        "parser = argparse.ArgumentParser()\n",
        "parser.add_argument('--seed', type=int, default=42, help='Random seed.')\n",
        "parser.add_argument('--epochs', type=int, default=50, help='Number of epochs to train.')\n",
        "parser.add_argument('--batch_size', type=int, default=200, help='Initial learning rate.') #100\n",
        "\n",
        "parser.add_argument('--lr', type=float, default=0.001, help='Initial learning rate.') #0.001\n",
        "parser.add_argument('--dropout', type=float, default=0.4, help='Dropout rate (1 - keep probability).')\n",
        "args = parser.parse_args([])\n",
        "torch.backends.cudnn.benchmark = True"
      ],
      "execution_count": 3,
      "outputs": []
    },
    {
      "cell_type": "code",
      "metadata": {
        "id": "4_8FK_2k3YDX",
        "colab_type": "code",
        "colab": {}
      },
      "source": [
        "samples=torch.load('../../Unet/ECAL_f01_june.pt')"
      ],
      "execution_count": 4,
      "outputs": []
    },
    {
      "cell_type": "code",
      "metadata": {
        "id": "9KxH1Zidrb04",
        "colab_type": "code",
        "colab": {}
      },
      "source": [
        "#samples=samples[:30000]"
      ],
      "execution_count": null,
      "outputs": []
    },
    {
      "cell_type": "code",
      "metadata": {
        "id": "IjeSoo48AQGj",
        "colab_type": "code",
        "colab": {}
      },
      "source": [
        "for sam in samples:\n",
        "  sam['x'][:,2]=-torch.log(sam['x'][:,2])*15\n",
        "  #sam['x'][:,:2]/=150"
      ],
      "execution_count": null,
      "outputs": []
    },
    {
      "cell_type": "code",
      "metadata": {
        "id": "j3yNn7Hl3mj8",
        "colab_type": "code",
        "colab": {}
      },
      "source": [
        "\n",
        "model = GraphPooling(in_channels=3, out_channels1=64, out_channels2=128, out_channels3=256,out_channels4=512,out_channels5=1024,dropout=args.dropout,\n",
        "                    batch_size=args.batch_size)\n",
        "optimizer = torch.optim.Adam(model.parameters(), lr=args.lr, weight_decay=0.001)\n",
        "#optimizer = torch.optim.RMSprop(model.parameters(), lr=0.001, weight_decay=0.001)"
      ],
      "execution_count": 5,
      "outputs": []
    },
    {
      "cell_type": "code",
      "metadata": {
        "id": "g0rme5CK3qAX",
        "colab_type": "code",
        "colab": {}
      },
      "source": [
        "def sizer(samples):\n",
        "    inds=[]\n",
        "    for k in samples:\n",
        "        inds.append(k['x'].shape[0])\n",
        "    return inds\n",
        "\n",
        "sizes=sizer(samples[:58000])\n",
        "\n",
        "fin=[]\n",
        "countit=0\n",
        "for m in sizes:\n",
        "    fin.append(np.repeat(countit,m))\n",
        "    countit+=1\n"
      ],
      "execution_count": 6,
      "outputs": []
    },
    {
      "cell_type": "code",
      "metadata": {
        "id": "2IVl3CZTaeZq",
        "colab_type": "code",
        "colab": {}
      },
      "source": [
        "\n",
        "from torch_geometric.data import DataLoader\n",
        "#jet=IterableMuons(samples)\n",
        "loader = DataLoader(samples[:58000], batch_size=args.batch_size,num_workers=2,pin_memory=True)\n",
        "\n",
        "#%%\n",
        "#model.train()\n",
        "#model= model.to(device)\n",
        "#optimizer = torch.optim.Adam(model.parameters(), lr=0.0005, weight_decay=0.001)\n",
        "#optimizer = torch.optim.RMSprop(model.parameters(), lr=0.0005, weight_decay=0.001)\n",
        "#model.train()\n",
        "#model.to(device)\n"
      ],
      "execution_count": 7,
      "outputs": []
    },
    {
      "cell_type": "code",
      "metadata": {
        "id": "tfhL1WQyXQEt",
        "colab_type": "code",
        "colab": {}
      },
      "source": [
        "scheduler=StepLR(optimizer, step_size=4, gamma=0.1)"
      ],
      "execution_count": 8,
      "outputs": []
    },
    {
      "cell_type": "code",
      "metadata": {
        "id": "3a3i0jPjac9F",
        "colab_type": "code",
        "colab": {
          "base_uri": "https://localhost:8080/",
          "height": 378
        },
        "outputId": "789e7b57-3446-48ee-e43d-645ee5dcbe54"
      },
      "source": [
        "checkpoint = torch.load('edge_mse_august.pth')\n",
        "model.load_state_dict(checkpoint['model_state_dict'])\n",
        "scheduler.load_state_dict(checkpoint['scheduler_state_dict'])\n",
        "optimizer.load_state_dict(checkpoint['optimizer_state_dict'])\n",
        "for state in optimizer.state.values():\n",
        "    for k, v in state.items():\n",
        "        if isinstance(v, torch.Tensor):\n",
        "            state[k] = v.cuda()\n",
        "model.eval()\n",
        "model.to(device)"
      ],
      "execution_count": null,
      "outputs": [
        {
          "output_type": "execute_result",
          "data": {
            "text/plain": [
              "AliPooling(\n",
              "  (sage1): SAGEConv(3, 64)\n",
              "  (sage2): SAGEConv(64, 128)\n",
              "  (sage3): SAGEConv(128, 256)\n",
              "  (sage4): SAGEConv(256, 512)\n",
              "  (tr1): Linear(in_features=512, out_features=1024, bias=True)\n",
              "  (tr2): Linear(in_features=1024, out_features=2048, bias=True)\n",
              "  (bano1): BatchNorm1d(64, eps=1e-05, momentum=0.1, affine=True, track_running_stats=True)\n",
              "  (bano2): BatchNorm1d(128, eps=1e-05, momentum=0.1, affine=True, track_running_stats=True)\n",
              "  (bano3): BatchNorm1d(256, eps=1e-05, momentum=0.1, affine=True, track_running_stats=True)\n",
              "  (bano4): BatchNorm1d(512, eps=1e-05, momentum=0.1, affine=True, track_running_stats=True)\n",
              "  (bano5): BatchNorm1d(1024, eps=1e-05, momentum=0.1, affine=True, track_running_stats=True)\n",
              "  (dec0): Linear(in_features=2048, out_features=1024, bias=True)\n",
              "  (dec1): Linear(in_features=1024, out_features=512, bias=True)\n",
              "  (dec2): SAGEConv(512, 256)\n",
              "  (dec3): SAGEConv(256, 128)\n",
              "  (dec4): SAGEConv(128, 64)\n",
              "  (dec5): SAGEConv(64, 3)\n",
              "  (edge1): EdgePooling(64)\n",
              "  (edge2): EdgePooling(128)\n",
              "  (edge3): EdgePooling(256)\n",
              ")"
            ]
          },
          "metadata": {
            "tags": []
          },
          "execution_count": 16
        }
      ]
    },
    {
      "cell_type": "code",
      "metadata": {
        "id": "spqMMBqBrtED",
        "colab_type": "code",
        "colab": {}
      },
      "source": [
        "testing = samples[-1000:]\n",
        "\n",
        "sizes2=sizer(testing)\n"
      ],
      "execution_count": 9,
      "outputs": []
    },
    {
      "cell_type": "code",
      "metadata": {
        "id": "XHyIPbrUrw-q",
        "colab_type": "code",
        "colab": {}
      },
      "source": [
        "\n",
        "fin2=[]\n",
        "count23=0\n",
        "for m2 in sizes2:\n",
        "    fin2.append(np.repeat(count23,m2))\n",
        "    count23+=1\n",
        "\n",
        "from torch_geometric.data import DataLoader\n",
        "Testloader = DataLoader(testing, batch_size=100)"
      ],
      "execution_count": 10,
      "outputs": []
    },
    {
      "cell_type": "code",
      "metadata": {
        "id": "HWfdP9-IIE-0",
        "colab_type": "code",
        "colab": {}
      },
      "source": [
        "epoch2=checkpoint['epoch']"
      ],
      "execution_count": null,
      "outputs": []
    },
    {
      "cell_type": "code",
      "metadata": {
        "id": "bOeROG5WIBKT",
        "colab_type": "code",
        "colab": {}
      },
      "source": [
        "for epoch in range(50):\n",
        "    #model.train()\n",
        "    \n",
        "    count=0\n",
        "    c1,c2=0,args.batch_size\n",
        "    epLoss=0\n",
        "    t = time.time()\n",
        "    for el in islice(loader,0,290):#count2,el in enumerate(loader):\n",
        "        \n",
        "        gra=el.x\n",
        "        adj=el.edge_index\n",
        "\n",
        "\n",
        "\n",
        "        check=torch.LongTensor(np.hstack(np.array(fin[c1:c2])))\n",
        "        count+=1#=count2+1\n",
        "        hidden_emb = None\n",
        "        \n",
        "        gra=gra.to(device)\n",
        "        adj=adj.to(device)\n",
        "        lengs=check.to(device)\n",
        "        optimizer.zero_grad()\n",
        "       \n",
        "\n",
        "        r1 ,mu,sig= model(gra,adj,lengs,gra.shape[0])\n",
        "\n",
        "\n",
        "        loss = loss_function(r1,gra,lengs,mu,sig) #+loss2(logsoftmax(torch.transpose(r2,1,2)),temp.long())      \n",
        "\n",
        "        loss.backward()\n",
        "\n",
        "        optimizer.step()\n",
        "\n",
        "        \n",
        "\n",
        "        cur_loss = loss.item()\n",
        "\n",
        "        \n",
        "        torch.cuda.empty_cache() \n",
        "        \n",
        "        epLoss+=float(cur_loss)\n",
        "\n",
        "        #hidden_emb = mu.data.numpy() \n",
        "\n",
        "\n",
        "        c1+=args.batch_size\n",
        "        c2+=args.batch_size\n",
        "\n",
        "\n",
        "        \n",
        "        \n",
        "        if count%145==0:\n",
        "            print(\"Epoch:\", '%04d' % (epoch + 1), \"train_loss=\", \"{:.5f}\".format(epLoss/count),\"time=\", \"{:.5f}\".format(time.time() - t))\n",
        "            t = time.time()\n",
        "\n",
        "            with torch.no_grad():\n",
        "              model.eval()\n",
        "              VaLoss=0\n",
        "              d1,d2=0,100\n",
        "              for el2 in islice(Testloader,10):\n",
        "                gra2=el2.x.cuda()  ##features \n",
        "                adj2=el2.edge_index.cuda() ## edge matrix \n",
        "                lengs2=torch.LongTensor(np.hstack(np.array(fin2[d1:d2]))).cuda()\n",
        "                r12,mu2,sig2= model(gra2,adj2,lengs2,gra2.shape[0]) ## X , A \n",
        "                loss2 = loss_function(r12,gra2,lengs2,mu2,sig2)\n",
        "                cur_loss2 = loss2.item()\n",
        "                VaLoss+=float(cur_loss2)\n",
        "                d1+=100\n",
        "                d2+=100\n",
        "              print(\"Val Loss:\", '%04d' % (VaLoss/10))\n",
        "\n",
        "    if epoch%2==0:\n",
        "      scheduler.step()\n",
        "      #cumLoss=validate(Testloader,5)\n",
        "      torch.save({\n",
        "            'epoch': epoch,\n",
        "            'model_state_dict': model.state_dict(),\n",
        "            'optimizer_state_dict': optimizer.state_dict(),\n",
        "            'scheduler_state_dict': scheduler.state_dict(),\n",
        "            'epoch':epoch,\n",
        "            'loss': loss,\n",
        "            'epLoss':epLoss\n",
        "            }, './edge_mse_august.pth')\n",
        "\n",
        "           "
      ],
      "execution_count": null,
      "outputs": []
    },
    {
      "cell_type": "code",
      "metadata": {
        "id": "oKJMujsKI2XN",
        "colab_type": "code",
        "colab": {
          "base_uri": "https://localhost:8080/",
          "height": 34
        },
        "outputId": "0295b5e1-0fd9-45cf-a0f6-02d920071ce9"
      },
      "source": [
        "count"
      ],
      "execution_count": null,
      "outputs": [
        {
          "output_type": "execute_result",
          "data": {
            "text/plain": [
              "137"
            ]
          },
          "metadata": {
            "tags": []
          },
          "execution_count": 15
        }
      ]
    },
    {
      "cell_type": "code",
      "metadata": {
        "id": "SzYmEd5D4XFo",
        "colab_type": "code",
        "colab": {}
      },
      "source": [
        "\n",
        "#%%\n",
        "testing = samples[-330:]\n",
        "\n",
        "#%%\n",
        "sizes2=sizer(testing)\n"
      ],
      "execution_count": null,
      "outputs": []
    },
    {
      "cell_type": "code",
      "metadata": {
        "id": "jJaH3IPS7gET",
        "colab_type": "code",
        "colab": {
          "base_uri": "https://localhost:8080/",
          "height": 32
        },
        "outputId": "2f8065c6-b95d-42c2-fbe5-f65ebc9b806a"
      },
      "source": [
        "            \n",
        "posMom=[]\n",
        "\n",
        "            with torch.no_grad():\n",
        "              model.eval()\n",
        "              for el2 in islice(Testloader,1):\n",
        "                gra2=el2.x.cuda()  ##features \n",
        "                adj2=el2.edge_index.cuda() ## edge matrix \n",
        "                lengs2=torch.LongTensor(np.hstack(np.array(fin2[:100]))).cuda()\n",
        "                r12,mu2,sig2= model(gra2,adj2,lengs2,gra2.shape[0]) ## X , A \n",
        "                loss2 = loss_function(r12,gra2,lengs2,mu2,sig2)\n",
        "                cur_loss2 = loss2.item()\n",
        "                posMom.append(r12)\n",
        "                print(\"Val Loss:\", '%04d' % (cur_loss2))"
      ],
      "execution_count": null,
      "outputs": [
        {
          "output_type": "stream",
          "text": [
            "Val Loss: 1384\n"
          ],
          "name": "stdout"
        }
      ]
    },
    {
      "cell_type": "code",
      "metadata": {
        "id": "6DGszUT69-fL",
        "colab_type": "code",
        "colab": {}
      },
      "source": [
        "\n",
        "#%%\n",
        "alles=[]\n",
        "temp=0\n",
        "for siz in sizes2:\n",
        "  temp+=siz\n",
        "  alles.append(temp)"
      ],
      "execution_count": null,
      "outputs": []
    },
    {
      "cell_type": "code",
      "metadata": {
        "id": "XIIqcisk-0mx",
        "colab_type": "code",
        "colab": {
          "base_uri": "https://localhost:8080/",
          "height": 65
        },
        "outputId": "a868ed6c-0793-458d-b0dd-d87c46166735"
      },
      "source": [
        " %matplotlib\n",
        "import matplotlib.pyplot as plt\n",
        "import numpy as np\n",
        "import seaborn as sns\n",
        "from matplotlib.colors import LogNorm"
      ],
      "execution_count": null,
      "outputs": [
        {
          "output_type": "stream",
          "text": [
            "Using matplotlib backend: agg\n"
          ],
          "name": "stdout"
        },
        {
          "output_type": "stream",
          "text": [
            "/usr/local/lib/python3.6/dist-packages/statsmodels/tools/_testing.py:19: FutureWarning: pandas.util.testing is deprecated. Use the functions in the public API at pandas.testing instead.\n",
            "  import pandas.util.testing as tm\n"
          ],
          "name": "stderr"
        }
      ]
    },
    {
      "cell_type": "code",
      "metadata": {
        "id": "RsqfKY1q2TJ8",
        "colab_type": "code",
        "colab": {}
      },
      "source": [
        "real=testing[1]['x']"
      ],
      "execution_count": null,
      "outputs": []
    },
    {
      "cell_type": "code",
      "metadata": {
        "id": "wq8tD13i2Pgk",
        "colab_type": "code",
        "colab": {}
      },
      "source": [
        "%matplotlib inline\n",
        "#xmin, xmax = min(lis4[:,0]), max(lis4[:,0])\n",
        "#ymin, ymax = min(lis4[:,1]), max(lis4[:,1])\n",
        "for k in range(10):\n",
        "  real=testing[k]['x']\n",
        "  xmin,xmax=0,125\n",
        "  ymin,ymax=0,125\n",
        "  binsxy = [int((xmax - xmin) / 50), int((ymax - ymin) / 50)]\n",
        "  weights=np.exp(-real[:,2]/10)\n",
        "  plt.figure(figsize=(7,6))\n",
        "  sc = plt.scatter(real[:,0],real[:,1],c=weights,cmap='viridis',norm=LogNorm(), alpha=0.9)\n",
        "  plt.colorbar(sc)\n",
        "  check=np.arange(0,140,10)\n",
        "  plt.xticks(check)\n",
        "  plt.yticks(check)\n",
        "  plt.grid()\n",
        "  #plt.savefig('./Real2/fig'+str(k)+'.png')\n"
      ],
      "execution_count": null,
      "outputs": []
    },
    {
      "cell_type": "code",
      "metadata": {
        "id": "TEcpvp0e-aR2",
        "colab_type": "code",
        "colab": {}
      },
      "source": [
        "%matplotlib inline\n",
        "#xmin, xmax = min(lis4[:,0]), max(lis4[:,0])\n",
        "#ymin, ymax = min(lis4[:,1]), max(lis4[:,1])\n",
        "k1,k2=0,1\n",
        "for j in range(10):\n",
        "  \n",
        "  lis4=r12[alles[k1]:alles[k2]].detach().cpu().clone()\n",
        "  xmin,xmax=0,125\n",
        "  ymin,ymax=0,125\n",
        "  binsxy = [int((xmax - xmin) / 50), int((ymax - ymin) / 50)]\n",
        "  weights=np.exp(-lis4[:,2]/10)\n",
        "  plt.figure(figsize=(7,6))\n",
        "  sc = plt.scatter(lis4[:,0],lis4[:,1],c=weights,cmap='viridis', norm=LogNorm(),alpha=0.9)\n",
        "  plt.colorbar(sc)\n",
        "  check=np.arange(0,140,10)\n",
        "  plt.xticks(check)\n",
        "  plt.yticks(check)\n",
        "  plt.grid()\n",
        "  k1+=1\n",
        "  k2+=1\n",
        "  #plt.savefig('./Rec2/rec'+str(j)+'.png')\n"
      ],
      "execution_count": null,
      "outputs": []
    },
    {
      "cell_type": "code",
      "metadata": {
        "id": "Kuyt9W72YbGc",
        "colab_type": "code",
        "colab": {}
      },
      "source": [
        "  lis4=r12[215:691].detach().cpu().clone()\n",
        "  xmin,xmax=0,125\n",
        "  ymin,ymax=0,125\n",
        "  binsxy = [int((xmax - xmin) / 50), int((ymax - ymin) / 50)]\n",
        "  weights=np.exp(-10*lis4[:,2])\n",
        "  plt.figure(figsize=(7,6))\n",
        "  sc = plt.scatter(lis4[:,0]*100,lis4[:,1]*100,c=weights,cmap='viridis', norm=LogNorm(),alpha=0.9)\n",
        "  plt.colorbar(sc)\n",
        "  check=np.arange(0,140,10)\n",
        "  plt.xticks(check)\n",
        "  plt.yticks(check)\n",
        "  plt.grid()"
      ],
      "execution_count": null,
      "outputs": []
    },
    {
      "cell_type": "code",
      "metadata": {
        "id": "kMRIauxL-6cb",
        "colab_type": "code",
        "colab": {}
      },
      "source": [
        "%matplotlib inline\n",
        "#xmin, xmax = min(lis4[:,0]), max(lis4[:,0])\n",
        "#ymin, ymax = min(lis4[:,1]), max(lis4[:,1])\n",
        "\n",
        "k1,k2=0,1\n",
        "for j in range(9):\n",
        "  lis4=r12[alles[k1]:alles[k2]].detach().cpu().clone()\n",
        "  xmin,xmax=0,125\n",
        "  ymin,ymax=0,125\n",
        "  binsxy = [int((xmax - xmin) / 50), int((ymax - ymin) / 50)]\n",
        "  weights=np.exp(-10*lis4[:,2])\n",
        "  plt.figure(figsize=(7,6))\n",
        "  sc = plt.scatter(lis4[:,0]*100,lis4[:,1]*100,c=weights,cmap='viridis', norm=LogNorm(),alpha=0.9)\n",
        "  plt.colorbar(sc)\n",
        "  check=np.arange(0,140,10)\n",
        "  plt.xticks(check)\n",
        "  plt.yticks(check)\n",
        "  plt.grid()\n",
        "  k1+=1\n",
        "  k2+=1\n",
        "  \n",
        "  #plt.savefig('./Rec/rec'+str(j)+'.png')\n"
      ],
      "execution_count": null,
      "outputs": []
    }
  ]
}