{
  "nbformat": 4,
  "nbformat_minor": 0,
  "metadata": {
    "colab": {
      "name": "genECAL.ipynb",
      "provenance": [],
      "collapsed_sections": []
    },
    "kernelspec": {
      "name": "python3",
      "display_name": "Python 3"
    },
    "accelerator": "GPU"
  },
  "cells": [
    {
      "cell_type": "code",
      "metadata": {
        "id": "0jOov-_CCGP7",
        "colab_type": "code",
        "colab": {}
      },
      "source": [
        "#!pip install -q torch==1.4.0 torchvision==0.5"
      ],
      "execution_count": null,
      "outputs": []
    },
    {
      "cell_type": "code",
      "metadata": {
        "id": "neKGDVTdvv6-",
        "colab_type": "code",
        "colab": {}
      },
      "source": [
        "!pip install torch==1.5.1+cu101 torchvision==0.6.1+cu101 -f https://download.pytorch.org/whl/torch_stable.html"
      ],
      "execution_count": null,
      "outputs": []
    },
    {
      "cell_type": "code",
      "metadata": {
        "id": "BtQgYlllLxZN",
        "colab_type": "code",
        "colab": {}
      },
      "source": [
        "!pip install torch-scatter==latest+cu101 -f https://pytorch-geometric.com/whl/torch-1.5.0.html\n",
        "!pip install torch-sparse==latest+cu101 -f https://pytorch-geometric.com/whl/torch-1.5.0.html\n",
        "!pip install torch-cluster==latest+cu101 -f https://pytorch-geometric.com/whl/torch-1.5.0.html\n",
        "!pip install torch-spline-conv==latest+cu101 -f https://pytorch-geometric.com/whl/torch-1.5.0.html\n",
        "!pip install torch-geometric"
      ],
      "execution_count": null,
      "outputs": []
    },
    {
      "cell_type": "code",
      "metadata": {
        "id": "BzYH6BolM53B",
        "colab_type": "code",
        "colab": {
          "base_uri": "https://localhost:8080/",
          "height": 34
        },
        "outputId": "0318a6a3-60d8-4ef9-e50e-fcb90021edb1"
      },
      "source": [
        "cd drive/My\\ Drive"
      ],
      "execution_count": 3,
      "outputs": [
        {
          "output_type": "stream",
          "text": [
            "/content/drive/My Drive\n"
          ],
          "name": "stdout"
        }
      ]
    },
    {
      "cell_type": "code",
      "metadata": {
        "id": "PDbw-jUUMcJm",
        "colab_type": "code",
        "colab": {}
      },
      "source": [
        "\n",
        "from torch.autograd import Variable\n",
        "import torch_geometric.transforms\n",
        "from torch_geometric.transforms import RadiusGraph\n",
        "from torch_geometric.transforms import knn_graph\n",
        "import torch_geometric.data\n",
        "import torch \n",
        "from torch_geometric.data import Data\n",
        "import numpy as np\n",
        "import pandas as pd\n",
        "from scipy.spatial import distance_matrix\n",
        "import torch\n",
        "import pyarrow as pa\n",
        "import pyarrow.parquet as pq\n",
        "import h5py\n",
        "import matplotlib.pyplot as plt\n",
        "from mpl_toolkits.mplot3d import Axes3D\n",
        "from torch_geometric.nn import knn_graph\n",
        "\n",
        "parquet = pq.ParquetFile('./Boosted_Jets_Sample-1.snappy.parquet')\n",
        "cols = None\n",
        "\n",
        "def jets2(number1,number2):\n",
        "    allCords=[]\n",
        "    graphs=[]\n",
        "    allFeats2=[]\n",
        "    grIndex=[]\n",
        "    for i in range(number1,number2):\n",
        "\n",
        "        data = parquet.read_row_group(i, columns=cols).to_pydict() ## Select parquet file to open\n",
        "        \n",
        "        data['X_jets'] = np.float32(data['X_jets']) [0] \n",
        "        \n",
        "        ecal=data['X_jets'][1]  ## Select ECAL Data out of the 3 available channels\n",
        "\n",
        "        ecal[ecal<=1e-3]=0  ## Remove noisy values\n",
        "        \n",
        "        xhit2,yhit2=np.nonzero(ecal)  ## Select hits in detector\n",
        "\n",
        "        eneEcal=ecal[xhit2,yhit2]  ## Select energies of hits\n",
        "   \n",
        "        feats=np.transpose(np.vstack((xhit2,yhit2,eneEcal)))  ## concatenate x,y locations and energies (3 features in total)\n",
        "        \n",
        "        cords=feats[:,[0,1]] ## cords = x,y coordinates \n",
        "        \n",
        "        allFeats=torch.from_numpy(feats).float()  ## features to tensors \n",
        "        \n",
        "        cords2=torch.from_numpy(cords)  ## coordinates to tensors \n",
        "       \n",
        "        edge_index = knn_graph(cords2, k=4, batch=None, loop=True)  ## Create knn graph adjacency matrix \n",
        "        data=Data(x=allFeats,edge_index=edge_index) ## Create graph data with feature matrix x and adjacency matrix edge_index\n",
        "        \n",
        "        graphs.append(data)\n",
        "\n",
        "\n",
        "    return graphs\n"
      ],
      "execution_count": 4,
      "outputs": []
    },
    {
      "cell_type": "code",
      "metadata": {
        "id": "v9rHPD4iMp7n",
        "colab_type": "code",
        "colab": {}
      },
      "source": [
        "testing1=jets2(0,30000)"
      ],
      "execution_count": null,
      "outputs": []
    },
    {
      "cell_type": "code",
      "metadata": {
        "id": "zbX8lDv-O2Sr",
        "colab_type": "code",
        "colab": {}
      },
      "source": [
        "testing2=jets2(0,30000)"
      ],
      "execution_count": null,
      "outputs": []
    },
    {
      "cell_type": "code",
      "metadata": {
        "id": "k7T5HWroPCnR",
        "colab_type": "code",
        "colab": {}
      },
      "source": [
        "testingComb=testing1+testing2"
      ],
      "execution_count": null,
      "outputs": []
    },
    {
      "cell_type": "code",
      "metadata": {
        "id": "xFTAItMRPIt8",
        "colab_type": "code",
        "colab": {}
      },
      "source": [
        "torch.save(testingComb,'ECAL_f01_june.pt')"
      ],
      "execution_count": null,
      "outputs": []
    }
  ]
}